{
 "cells": [
  {
   "cell_type": "code",
   "execution_count": 2,
   "id": "91bc5706",
   "metadata": {
    "scrolled": true
   },
   "outputs": [
    {
     "data": {
      "text/html": [
       "<div>\n",
       "<style scoped>\n",
       "    .dataframe tbody tr th:only-of-type {\n",
       "        vertical-align: middle;\n",
       "    }\n",
       "\n",
       "    .dataframe tbody tr th {\n",
       "        vertical-align: top;\n",
       "    }\n",
       "\n",
       "    .dataframe thead th {\n",
       "        text-align: right;\n",
       "    }\n",
       "</style>\n",
       "<table border=\"1\" class=\"dataframe\">\n",
       "  <thead>\n",
       "    <tr style=\"text-align: right;\">\n",
       "      <th></th>\n",
       "      <th>TurId</th>\n",
       "      <th>Dato</th>\n",
       "      <th>Fylke</th>\n",
       "      <th>Område</th>\n",
       "      <th>Kommune</th>\n",
       "      <th>Holdeplass_Fra</th>\n",
       "      <th>Holdeplass_Til</th>\n",
       "      <th>Linjetype</th>\n",
       "      <th>Linjefylke</th>\n",
       "      <th>Linjenavn</th>\n",
       "      <th>Linjeretning</th>\n",
       "      <th>Tidspunkt_Faktisk_Ankomst_Holdeplass_Fra</th>\n",
       "      <th>Tidspunkt_Faktisk_Avgang_Holdeplass_Fra</th>\n",
       "      <th>Tidspunkt_Planlagt_Ankomst_Holdeplass_Fra</th>\n",
       "      <th>Tidspunkt_Planlagt_Avgang_Holdeplass_Fra</th>\n",
       "      <th>Kjøretøy_Kapasitet</th>\n",
       "      <th>Passasjerer_Ombord</th>\n",
       "    </tr>\n",
       "  </thead>\n",
       "  <tbody>\n",
       "    <tr>\n",
       "      <th>0</th>\n",
       "      <td>15006-2020-08-10T10:24:00+02:00</td>\n",
       "      <td>10/08/2020</td>\n",
       "      <td>Viken</td>\n",
       "      <td>Vest</td>\n",
       "      <td>Bærum</td>\n",
       "      <td>Nordliveien</td>\n",
       "      <td>Tjernsmyr</td>\n",
       "      <td>Lokal</td>\n",
       "      <td>Viken</td>\n",
       "      <td>150</td>\n",
       "      <td>0</td>\n",
       "      <td>10:53:53</td>\n",
       "      <td>10:53:59</td>\n",
       "      <td>10:53:00</td>\n",
       "      <td>10:53:00</td>\n",
       "      <td>112</td>\n",
       "      <td>5</td>\n",
       "    </tr>\n",
       "    <tr>\n",
       "      <th>1</th>\n",
       "      <td>15002-2020-08-15T12:54:00+02:00</td>\n",
       "      <td>15/08/2020</td>\n",
       "      <td>Viken</td>\n",
       "      <td>Vest</td>\n",
       "      <td>Bærum</td>\n",
       "      <td>Nadderud stadion</td>\n",
       "      <td>Bekkestua bussterminal (Plattform C)</td>\n",
       "      <td>Lokal</td>\n",
       "      <td>Viken</td>\n",
       "      <td>150</td>\n",
       "      <td>0</td>\n",
       "      <td>13:12:20</td>\n",
       "      <td>13:12:26</td>\n",
       "      <td>13:12:00</td>\n",
       "      <td>13:12:00</td>\n",
       "      <td>112</td>\n",
       "      <td>5</td>\n",
       "    </tr>\n",
       "    <tr>\n",
       "      <th>2</th>\n",
       "      <td>15004-2020-08-03T09:54:00+02:00</td>\n",
       "      <td>03/08/2020</td>\n",
       "      <td>Viken</td>\n",
       "      <td>Vest</td>\n",
       "      <td>Bærum</td>\n",
       "      <td>Ringstabekkveien</td>\n",
       "      <td>Skallum</td>\n",
       "      <td>Lokal</td>\n",
       "      <td>Viken</td>\n",
       "      <td>150</td>\n",
       "      <td>0</td>\n",
       "      <td>10:18:56</td>\n",
       "      <td>10:19:21</td>\n",
       "      <td>10:19:00</td>\n",
       "      <td>10:19:00</td>\n",
       "      <td>112</td>\n",
       "      <td>6</td>\n",
       "    </tr>\n",
       "    <tr>\n",
       "      <th>3</th>\n",
       "      <td>15003-2020-07-27T13:00:00+02:00</td>\n",
       "      <td>27/07/2020</td>\n",
       "      <td>Viken</td>\n",
       "      <td>Vest</td>\n",
       "      <td>Bærum</td>\n",
       "      <td>Gruvemyra</td>\n",
       "      <td>Gullhaug</td>\n",
       "      <td>Lokal</td>\n",
       "      <td>Viken</td>\n",
       "      <td>150</td>\n",
       "      <td>1</td>\n",
       "      <td>13:52:04</td>\n",
       "      <td>13:52:26</td>\n",
       "      <td>13:51:00</td>\n",
       "      <td>13:51:00</td>\n",
       "      <td>112</td>\n",
       "      <td>10</td>\n",
       "    </tr>\n",
       "    <tr>\n",
       "      <th>4</th>\n",
       "      <td>15002-2020-08-27T07:15:00+02:00</td>\n",
       "      <td>27/08/2020</td>\n",
       "      <td>Viken</td>\n",
       "      <td>Vest</td>\n",
       "      <td>Bærum</td>\n",
       "      <td>Lysaker stasjon (Plattform A)</td>\n",
       "      <td>Tjernsmyr</td>\n",
       "      <td>Lokal</td>\n",
       "      <td>Viken</td>\n",
       "      <td>150</td>\n",
       "      <td>1</td>\n",
       "      <td>07:34:13</td>\n",
       "      <td>07:34:53</td>\n",
       "      <td>07:33:00</td>\n",
       "      <td>07:33:00</td>\n",
       "      <td>112</td>\n",
       "      <td>10</td>\n",
       "    </tr>\n",
       "    <tr>\n",
       "      <th>...</th>\n",
       "      <td>...</td>\n",
       "      <td>...</td>\n",
       "      <td>...</td>\n",
       "      <td>...</td>\n",
       "      <td>...</td>\n",
       "      <td>...</td>\n",
       "      <td>...</td>\n",
       "      <td>...</td>\n",
       "      <td>...</td>\n",
       "      <td>...</td>\n",
       "      <td>...</td>\n",
       "      <td>...</td>\n",
       "      <td>...</td>\n",
       "      <td>...</td>\n",
       "      <td>...</td>\n",
       "      <td>...</td>\n",
       "      <td>...</td>\n",
       "    </tr>\n",
       "    <tr>\n",
       "      <th>5995</th>\n",
       "      <td>10001-2020-06-10T15:10:00+02:00</td>\n",
       "      <td>10/06/2020</td>\n",
       "      <td>Viken</td>\n",
       "      <td>Nordøst</td>\n",
       "      <td>Lillestrøm</td>\n",
       "      <td>Brauterkrysset</td>\n",
       "      <td>Nordsnoveien</td>\n",
       "      <td>Lokal</td>\n",
       "      <td>Viken</td>\n",
       "      <td>100</td>\n",
       "      <td>1</td>\n",
       "      <td>16:23:18</td>\n",
       "      <td>16:23:48</td>\n",
       "      <td>16:10:00</td>\n",
       "      <td>16:10:00</td>\n",
       "      <td>151</td>\n",
       "      <td>2</td>\n",
       "    </tr>\n",
       "    <tr>\n",
       "      <th>5996</th>\n",
       "      <td>10010-2020-06-23T05:54:00+02:00</td>\n",
       "      <td>23/06/2020</td>\n",
       "      <td>Viken</td>\n",
       "      <td>Nordøst</td>\n",
       "      <td>Lillestrøm</td>\n",
       "      <td>Vestbygata</td>\n",
       "      <td>Bjørnsons gate</td>\n",
       "      <td>Lokal</td>\n",
       "      <td>Viken</td>\n",
       "      <td>100</td>\n",
       "      <td>0</td>\n",
       "      <td>06:00:32</td>\n",
       "      <td>06:00:40</td>\n",
       "      <td>05:59:00</td>\n",
       "      <td>05:59:00</td>\n",
       "      <td>151</td>\n",
       "      <td>2</td>\n",
       "    </tr>\n",
       "    <tr>\n",
       "      <th>5997</th>\n",
       "      <td>2007-2020-06-11T17:22:00+02:00</td>\n",
       "      <td>11/06/2020</td>\n",
       "      <td>Oslo</td>\n",
       "      <td>Indre By</td>\n",
       "      <td>Sagene</td>\n",
       "      <td>Torshovparken  (mot Torshovparken)</td>\n",
       "      <td>Torshov  (mot Bentsebrua)</td>\n",
       "      <td>Lokal</td>\n",
       "      <td>Oslo</td>\n",
       "      <td>20</td>\n",
       "      <td>1</td>\n",
       "      <td>17:42:43</td>\n",
       "      <td>17:43:10</td>\n",
       "      <td>17:32:00</td>\n",
       "      <td>17:32:00</td>\n",
       "      <td>106</td>\n",
       "      <td>3</td>\n",
       "    </tr>\n",
       "    <tr>\n",
       "      <th>5998</th>\n",
       "      <td>10004-2020-08-13T04:59:00+02:00</td>\n",
       "      <td>13/08/2020</td>\n",
       "      <td>Oslo</td>\n",
       "      <td>Indre By</td>\n",
       "      <td>Gamle Oslo</td>\n",
       "      <td>Harald Hårdrådes plass  (mot Grønland)</td>\n",
       "      <td>Oslo gate  (mot Grønland)</td>\n",
       "      <td>Lokal</td>\n",
       "      <td>Viken</td>\n",
       "      <td>100</td>\n",
       "      <td>0</td>\n",
       "      <td>06:00:11</td>\n",
       "      <td>06:00:23</td>\n",
       "      <td>05:59:00</td>\n",
       "      <td>05:59:00</td>\n",
       "      <td>151</td>\n",
       "      <td>5</td>\n",
       "    </tr>\n",
       "    <tr>\n",
       "      <th>5999</th>\n",
       "      <td>34013-2020-08-05T13:31:00+02:00</td>\n",
       "      <td>05/08/2020</td>\n",
       "      <td>Viken</td>\n",
       "      <td>Nordøst</td>\n",
       "      <td>Lillestrøm</td>\n",
       "      <td>Tandberg</td>\n",
       "      <td>Selmer</td>\n",
       "      <td>Lokal</td>\n",
       "      <td>Viken</td>\n",
       "      <td>340</td>\n",
       "      <td>1</td>\n",
       "      <td>13:52:44</td>\n",
       "      <td>13:52:48</td>\n",
       "      <td>13:50:00</td>\n",
       "      <td>13:50:00</td>\n",
       "      <td>105</td>\n",
       "      <td>-5</td>\n",
       "    </tr>\n",
       "  </tbody>\n",
       "</table>\n",
       "<p>6000 rows × 17 columns</p>\n",
       "</div>"
      ],
      "text/plain": [
       "                                TurId        Dato  Fylke    Område  \\\n",
       "0     15006-2020-08-10T10:24:00+02:00  10/08/2020  Viken      Vest   \n",
       "1     15002-2020-08-15T12:54:00+02:00  15/08/2020  Viken      Vest   \n",
       "2     15004-2020-08-03T09:54:00+02:00  03/08/2020  Viken      Vest   \n",
       "3     15003-2020-07-27T13:00:00+02:00  27/07/2020  Viken      Vest   \n",
       "4     15002-2020-08-27T07:15:00+02:00  27/08/2020  Viken      Vest   \n",
       "...                               ...         ...    ...       ...   \n",
       "5995  10001-2020-06-10T15:10:00+02:00  10/06/2020  Viken   Nordøst   \n",
       "5996  10010-2020-06-23T05:54:00+02:00  23/06/2020  Viken   Nordøst   \n",
       "5997   2007-2020-06-11T17:22:00+02:00  11/06/2020   Oslo  Indre By   \n",
       "5998  10004-2020-08-13T04:59:00+02:00  13/08/2020   Oslo  Indre By   \n",
       "5999  34013-2020-08-05T13:31:00+02:00  05/08/2020  Viken   Nordøst   \n",
       "\n",
       "         Kommune                          Holdeplass_Fra  \\\n",
       "0          Bærum                             Nordliveien   \n",
       "1          Bærum                        Nadderud stadion   \n",
       "2          Bærum                        Ringstabekkveien   \n",
       "3          Bærum                               Gruvemyra   \n",
       "4          Bærum           Lysaker stasjon (Plattform A)   \n",
       "...          ...                                     ...   \n",
       "5995  Lillestrøm                          Brauterkrysset   \n",
       "5996  Lillestrøm                              Vestbygata   \n",
       "5997      Sagene      Torshovparken  (mot Torshovparken)   \n",
       "5998  Gamle Oslo  Harald Hårdrådes plass  (mot Grønland)   \n",
       "5999  Lillestrøm                                Tandberg   \n",
       "\n",
       "                            Holdeplass_Til Linjetype Linjefylke Linjenavn  \\\n",
       "0                                Tjernsmyr     Lokal      Viken       150   \n",
       "1     Bekkestua bussterminal (Plattform C)     Lokal      Viken       150   \n",
       "2                                  Skallum     Lokal      Viken       150   \n",
       "3                                 Gullhaug     Lokal      Viken       150   \n",
       "4                                Tjernsmyr     Lokal      Viken       150   \n",
       "...                                    ...       ...        ...       ...   \n",
       "5995                          Nordsnoveien     Lokal      Viken       100   \n",
       "5996                        Bjørnsons gate     Lokal      Viken       100   \n",
       "5997             Torshov  (mot Bentsebrua)     Lokal       Oslo        20   \n",
       "5998             Oslo gate  (mot Grønland)     Lokal      Viken       100   \n",
       "5999                                Selmer     Lokal      Viken       340   \n",
       "\n",
       "      Linjeretning Tidspunkt_Faktisk_Ankomst_Holdeplass_Fra  \\\n",
       "0                0                                 10:53:53   \n",
       "1                0                                 13:12:20   \n",
       "2                0                                 10:18:56   \n",
       "3                1                                 13:52:04   \n",
       "4                1                                 07:34:13   \n",
       "...            ...                                      ...   \n",
       "5995             1                                 16:23:18   \n",
       "5996             0                                 06:00:32   \n",
       "5997             1                                 17:42:43   \n",
       "5998             0                                 06:00:11   \n",
       "5999             1                                 13:52:44   \n",
       "\n",
       "     Tidspunkt_Faktisk_Avgang_Holdeplass_Fra  \\\n",
       "0                                   10:53:59   \n",
       "1                                   13:12:26   \n",
       "2                                   10:19:21   \n",
       "3                                   13:52:26   \n",
       "4                                   07:34:53   \n",
       "...                                      ...   \n",
       "5995                                16:23:48   \n",
       "5996                                06:00:40   \n",
       "5997                                17:43:10   \n",
       "5998                                06:00:23   \n",
       "5999                                13:52:48   \n",
       "\n",
       "     Tidspunkt_Planlagt_Ankomst_Holdeplass_Fra  \\\n",
       "0                                     10:53:00   \n",
       "1                                     13:12:00   \n",
       "2                                     10:19:00   \n",
       "3                                     13:51:00   \n",
       "4                                     07:33:00   \n",
       "...                                        ...   \n",
       "5995                                  16:10:00   \n",
       "5996                                  05:59:00   \n",
       "5997                                  17:32:00   \n",
       "5998                                  05:59:00   \n",
       "5999                                  13:50:00   \n",
       "\n",
       "     Tidspunkt_Planlagt_Avgang_Holdeplass_Fra  Kjøretøy_Kapasitet  \\\n",
       "0                                    10:53:00                 112   \n",
       "1                                    13:12:00                 112   \n",
       "2                                    10:19:00                 112   \n",
       "3                                    13:51:00                 112   \n",
       "4                                    07:33:00                 112   \n",
       "...                                       ...                 ...   \n",
       "5995                                 16:10:00                 151   \n",
       "5996                                 05:59:00                 151   \n",
       "5997                                 17:32:00                 106   \n",
       "5998                                 05:59:00                 151   \n",
       "5999                                 13:50:00                 105   \n",
       "\n",
       "      Passasjerer_Ombord  \n",
       "0                      5  \n",
       "1                      5  \n",
       "2                      6  \n",
       "3                     10  \n",
       "4                     10  \n",
       "...                  ...  \n",
       "5995                   2  \n",
       "5996                   2  \n",
       "5997                   3  \n",
       "5998                   5  \n",
       "5999                  -5  \n",
       "\n",
       "[6000 rows x 17 columns]"
      ]
     },
     "execution_count": 2,
     "metadata": {},
     "output_type": "execute_result"
    }
   ],
   "source": [
    "import pandas as pd\n",
    "import numpy as np\n",
    "import matplotlib.pyplot as plt\n",
    "import datetime\n",
    "import statistics\n",
    "import pickle\n",
    "\n",
    "from sklearn import metrics\n",
    "from sklearn import preprocessing\n",
    "from sklearn.linear_model import LinearRegression\n",
    "from sklearn.model_selection import train_test_split\n",
    "from scipy import stats\n",
    "\n",
    "\n",
    "url = 'https://raw.githubusercontent.com/umaimehm/Intro_to_AI_2021/main/assignment1/Ruter_data.csv'\n",
    "df = pd.read_csv(url, sep=';')\n",
    "df"
   ]
  },
  {
   "cell_type": "code",
   "execution_count": 4,
   "id": "39da2c1b",
   "metadata": {
    "scrolled": true
   },
   "outputs": [],
   "source": [
    "test = df[df[\"Linjenavn\"] == \"100\"]"
   ]
  },
  {
   "cell_type": "code",
   "execution_count": 5,
   "id": "0828bc67",
   "metadata": {
    "scrolled": true
   },
   "outputs": [],
   "source": [
    "test2 = test.drop([\"TurId\", \"Fylke\",'Holdeplass_Fra', 'Holdeplass_Til','Linjenavn','Tidspunkt_Faktisk_Ankomst_Holdeplass_Fra','Tidspunkt_Faktisk_Avgang_Holdeplass_Fra',\"Område\",\"Kommune\",\"Linjetype\",\"Linjefylke\",\"Linjeretning\",\"Kjøretøy_Kapasitet\",\"Tidspunkt_Planlagt_Ankomst_Holdeplass_Fra\",\"Tidspunkt_Planlagt_Avgang_Holdeplass_Fra\"], axis=1)"
   ]
  },
  {
   "cell_type": "code",
   "execution_count": 6,
   "id": "a27c7b61",
   "metadata": {
    "scrolled": true
   },
   "outputs": [],
   "source": [
    "test2[\"Dato\"] = pd.to_datetime(test2[\"Dato\"])"
   ]
  },
  {
   "cell_type": "code",
   "execution_count": 7,
   "id": "705f55d3",
   "metadata": {},
   "outputs": [],
   "source": [
    "test2[\"Ukedag\"] = pd.to_datetime(test2[\"Dato\"]).dt.dayofweek"
   ]
  },
  {
   "cell_type": "code",
   "execution_count": 8,
   "id": "1b7e719e",
   "metadata": {},
   "outputs": [],
   "source": [
    "test3 = test2[test2[\"Passasjerer_Ombord\"]>=0]\n",
    "mandag = test3[test3[\"Ukedag\"] == 0]\n",
    "tirsdag = test3[test3[\"Ukedag\"] == 1]\n",
    "onsdag = test3[test3[\"Ukedag\"] == 2]\n",
    "torsdag = test3[test3[\"Ukedag\"] == 3]\n",
    "fredag = test3[test3[\"Ukedag\"] == 4]\n",
    "lordag = test3[test3[\"Ukedag\"] == 5]\n",
    "sondag = test3[test3[\"Ukedag\"] == 6]"
   ]
  },
  {
   "cell_type": "code",
   "execution_count": 9,
   "id": "eec5c9a5",
   "metadata": {},
   "outputs": [],
   "source": [
    "y = pd.DataFrame(test3[\"Passasjerer_Ombord\"])\n",
    "X = pd.DataFrame(test3[\"Ukedag\"])"
   ]
  },
  {
   "cell_type": "code",
   "execution_count": 10,
   "id": "852a80f4",
   "metadata": {},
   "outputs": [],
   "source": [
    "X_train, X_test, y_train, y_test = train_test_split(X, y, test_size=0.33, random_state=76)"
   ]
  },
  {
   "cell_type": "code",
   "execution_count": 11,
   "id": "8cea0e1c",
   "metadata": {},
   "outputs": [],
   "source": [
    "linear_regressor = LinearRegression()\n",
    "linear_regressor.fit(X_train, y_train)\n",
    "Y_pred = linear_regressor.predict(y_train)"
   ]
  },
  {
   "cell_type": "code",
   "execution_count": 12,
   "id": "0e4b0e44",
   "metadata": {
    "scrolled": false
   },
   "outputs": [
    {
     "data": {
      "image/png": "[encoded data removed]",
      "text/plain": [
       "<Figure size 432x288 with 1 Axes>"
      ]
     },
     "metadata": {
      "needs_background": "light"
     },
     "output_type": "display_data"
    },
    {
     "name": "stdout",
     "output_type": "stream",
     "text": [
      "MSE = 82.33722565015441\n"
     ]
    }
   ],
   "source": [
    "plt.scatter(X_train, y_train)\n",
    "plt.plot(X_train, Y_pred, color='red')\n",
    "plt.show()\n",
    "print(\"MSE = \" + str(metrics.mean_squared_error(y_train, Y_pred)))"
   ]
  },
  {
   "cell_type": "code",
   "execution_count": 13,
   "id": "bc537f49",
   "metadata": {},
   "outputs": [
    {
     "data": {
      "image/png": "[encoded data removed]",
      "text/plain": [
       "<Figure size 432x288 with 1 Axes>"
      ]
     },
     "metadata": {
      "needs_background": "light"
     },
     "output_type": "display_data"
    },
    {
     "name": "stdout",
     "output_type": "stream",
     "text": [
      "MSE = 48.495938907452945\n"
     ]
    }
   ],
   "source": [
    "Y_pred = linear_regressor.predict(X_test)\n",
    "plt.scatter(X_test, y_test)\n",
    "plt.plot(X_test, Y_pred, color='red')\n",
    "plt.show()\n",
    "print(\"MSE = \" + str(metrics.mean_squared_error(y_test, Y_pred)))"
   ]
  },
  {
   "cell_type": "code",
   "execution_count": 14,
   "id": "68dc43f7",
   "metadata": {
    "scrolled": true
   },
   "outputs": [
    {
     "data": {
      "image/png": "[encoded data removed]",
      "text/plain": [
       "<Figure size 432x288 with 1 Axes>"
      ]
     },
     "metadata": {
      "needs_background": "light"
     },
     "output_type": "display_data"
    },
    {
     "name": "stdout",
     "output_type": "stream",
     "text": [
      "MSE = 57.436465606883736\n"
     ]
    }
   ],
   "source": [
    "X = pd.DataFrame(test3[\"Ukedag\"])\n",
    "Y = pd.DataFrame(test3[\"Passasjerer_Ombord\"])\n",
    "linear_regressor.fit(X, Y)  \n",
    "Y_pred = linear_regressor.predict(X)\n",
    "plt.scatter(X, Y)\n",
    "plt.plot(X, Y_pred, color='red')\n",
    "plt.show()\n",
    "print( \"MSE = \"+str(metrics.mean_squared_error(Y,Y_pred)))"
   ]
  },
  {
   "cell_type": "code",
   "execution_count": 18,
   "id": "65cad109",
   "metadata": {},
   "outputs": [],
   "source": [
    "filename = 'model.sav'\n",
    "pickle.dump(linear_regressor, open(filename, 'wb'))"
   ]
  },
  {
   "cell_type": "code",
   "execution_count": 3,
   "id": "8fc7455a",
   "metadata": {},
   "outputs": [
    {
     "ename": "NameError",
     "evalue": "name 'linear_regressor' is not defined",
     "output_type": "error",
     "traceback": [
      "\u001b[1;31m---------------------------------------------------------------------------\u001b[0m",
      "\u001b[1;31mNameError\u001b[0m                                 Traceback (most recent call last)",
      "\u001b[1;32m~\\AppData\\Local\\Temp/ipykernel_9672/2298367851.py\u001b[0m in \u001b[0;36m<module>\u001b[1;34m\u001b[0m\n\u001b[0;32m      3\u001b[0m \u001b[0mDato\u001b[0m \u001b[1;33m=\u001b[0m \u001b[0mpd\u001b[0m\u001b[1;33m.\u001b[0m\u001b[0mto_datetime\u001b[0m\u001b[1;33m(\u001b[0m\u001b[0mDato\u001b[0m\u001b[1;33m)\u001b[0m\u001b[1;33m\u001b[0m\u001b[1;33m\u001b[0m\u001b[0m\n\u001b[0;32m      4\u001b[0m \u001b[0mDag\u001b[0m \u001b[1;33m=\u001b[0m \u001b[0mpd\u001b[0m\u001b[1;33m.\u001b[0m\u001b[0mto_datetime\u001b[0m\u001b[1;33m(\u001b[0m\u001b[0mDato\u001b[0m\u001b[1;33m)\u001b[0m\u001b[1;33m.\u001b[0m\u001b[0mdayofweek\u001b[0m\u001b[1;33m\u001b[0m\u001b[1;33m\u001b[0m\u001b[0m\n\u001b[1;32m----> 5\u001b[1;33m \u001b[0mprint\u001b[0m\u001b[1;33m(\u001b[0m\u001b[0mlinear_regressor\u001b[0m\u001b[1;33m.\u001b[0m\u001b[0mpredict\u001b[0m\u001b[1;33m(\u001b[0m\u001b[1;33m[\u001b[0m\u001b[1;33m[\u001b[0m\u001b[0mDag\u001b[0m\u001b[1;33m]\u001b[0m\u001b[1;33m]\u001b[0m\u001b[1;33m)\u001b[0m\u001b[1;33m)\u001b[0m\u001b[1;33m\u001b[0m\u001b[1;33m\u001b[0m\u001b[0m\n\u001b[0m",
      "\u001b[1;31mNameError\u001b[0m: name 'linear_regressor' is not defined"
     ]
    }
   ],
   "source": [
    "#Skriv inn dato på Dato. Format mm/dd/yyyy\n",
    "Dato = \"08/13/2020\"\n",
    "Dato = pd.to_datetime(Dato)\n",
    "Dag = pd.to_datetime(Dato).dayofweek\n",
    "print(linear_regressor.predict([[Dag]]))"
   ]
  },
  {
   "cell_type": "code",
   "execution_count": 10,
   "id": "31779952",
   "metadata": {},
   "outputs": [
    {
     "data": {
      "text/plain": [
       "array([[7.83071068]])"
      ]
     },
     "execution_count": 10,
     "metadata": {},
     "output_type": "execute_result"
    }
   ],
   "source": [
    "import pickle\n",
    "filename = 'model.sav'\n",
    "loaded_model = pickle.load(open(filename, 'rb'))\n",
    "\n",
    "#Skriv inn dato på Dato. Format mm/dd/yyyy\n",
    "loaded_model.predict([[6]])"
   ]
  },
  {
   "cell_type": "code",
   "execution_count": null,
   "id": "4627e409",
   "metadata": {},
   "outputs": [],
   "source": []
  }
 ],
 "metadata": {
  "kernelspec": {
   "display_name": "Python 3 (ipykernel)",
   "language": "python",
   "name": "python3"
  },
  "language_info": {
   "codemirror_mode": {
    "name": "ipython",
    "version": 3
   },
   "file_extension": ".py",
   "mimetype": "text/x-python",
   "name": "python",
   "nbconvert_exporter": "python",
   "pygments_lexer": "ipython3",
   "version": "3.8.11"
  }
 },
 "nbformat": 4,
 "nbformat_minor": 5
}
